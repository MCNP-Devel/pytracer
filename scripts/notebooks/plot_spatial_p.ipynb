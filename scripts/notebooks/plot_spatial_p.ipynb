{
 "cells": [
  {
   "cell_type": "code",
   "execution_count": 1,
   "metadata": {},
   "outputs": [
    {
     "name": "stdout",
     "output_type": "stream",
     "text": [
      "H:\\GitHub\\pytracer\n"
     ]
    }
   ],
   "source": [
    "%cd H:\\GitHub\\pytracer\\"
   ]
  },
  {
   "cell_type": "code",
   "execution_count": 2,
   "metadata": {},
   "outputs": [],
   "source": [
    "import matplotlib.pyplot as plt\n",
    "import numpy as np\n",
    "import scripts.assemblies as assembly\n",
    "import pytracer.geometry as geo\n",
    "import pytracer.transmission as transmission"
   ]
  },
  {
   "cell_type": "code",
   "execution_count": 3,
   "metadata": {},
   "outputs": [],
   "source": [
    "def distance(x1, y1, x2, y2):\n",
    "    tmp = 0\n",
    "\n",
    "    tmp = (x1 - x2) * (x1 - x2) + (y1 - y2) * (y1 - y2)\n",
    "    return np.sqrt(tmp)\n",
    "\n",
    "\n",
    "def sign_line(x, y, x1, y1, x2, y2):\n",
    "    return (x - x1) * (y1 - y2) + (y - y1) * (x2 - x1)\n",
    "\n",
    "\n",
    "def point_segment_distance(px, py, x0, x1, y0, y1):\n",
    "    length_sq = (x1 - x0) * (x1 - x0) + (y1 - y0) * (y1 - y0)\n",
    "    if length_sq <= 0:\n",
    "        distance = np.sqrt((px - x0) * (px - x0) + (py - y0) * (py - y0))\n",
    "        return distance\n",
    "\n",
    "    t = (px - x0) * (x1 - x0) + (py - y0) * (y1 - y0)\n",
    "    t /= length_sq\n",
    "    if t > 1:\n",
    "        t = 1\n",
    "    elif t < 0:\n",
    "        t = 0\n",
    "\n",
    "    projection_x = x0 + t * (x1 - x0)\n",
    "    projection_y = y0 + t * (y1 - y0)\n",
    "    distance = (px - projection_x) * (px - projection_x) + (py - projection_y) * (py - projection_y)\n",
    "    distance = np.sqrt(distance)\n",
    "    return distance\n",
    "\n",
    "\n",
    "def p_at_point(point_x, point_y, segments, pfuncrefs, pfuncs):\n",
    "    \"\"\" Based on looking at segment with smallest distance \"\"\"\n",
    "    min_distance = 1e99\n",
    "    point_absorbance = 0\n",
    "\n",
    "    for i in range(segments.shape[0]):\n",
    "        distance = point_segment_distance(point_x, point_y, segments[i, 0, 0], segments[i, 1, 0],\n",
    "                                          segments[i, 0, 1], segments[i, 1, 1])\n",
    "        if distance < min_distance:\n",
    "            min_distance = distance\n",
    "            is_outer = sign_line(point_x, point_y, segments[i, 0, 0], segments[i, 0, 1],\n",
    "                                 segments[i, 1, 0], segments[i, 1, 1])\n",
    "            in_p = 0\n",
    "            out_p = 0\n",
    "            if pfuncrefs[i, 0] > 0:\n",
    "                in_p = pfuncs[pfuncrefs[i, 0]](point_x, point_y)\n",
    "            if pfuncrefs[i, 1] > 0:\n",
    "                out_p = pfuncs[pfuncrefs[i, 1]](point_x, point_y)\n",
    "\n",
    "            if is_outer == 0:\n",
    "                point_absorbance = (in_p + out_p) / 2\n",
    "            elif is_outer > 0:\n",
    "                point_absorbance = out_p\n",
    "            else:\n",
    "                point_absorbance = in_p\n",
    "    return point_absorbance\n",
    "\n",
    "\n",
    "def p_image(xs, ys, flat_geom):\n",
    "    image = np.zeros((np.size(xs, 0), np.size(ys, 0)), dtype=np.double)\n",
    "    extent = [xs[0], xs[-1], ys[0], ys[-1]]\n",
    "\n",
    "    for i in range(xs.shape[0]):\n",
    "        for j in range(ys.shape[0]):\n",
    "            image[i, j] = p_at_point(xs[i], ys[j], flat_geom.segments, flat_geom.pfuncrefs, flat_geom.pfuncs)\n",
    "\n",
    "    return image, extent\n",
    "\n",
    "\n",
    "def foo(xs, ys):\n",
    "    xs -= assembly._circle_origin[0]\n",
    "    ys -= assembly._circle_origin[1]\n",
    "    ring_center_radius = (\n",
    "                         assembly._circle_outer_radius - assembly._circle_inner_radius) / 2 + assembly._circle_inner_radius\n",
    "    xv, yv = np.meshgrid(xs, ys)\n",
    "    radius = np.sqrt(xv ** 2 + yv[::-1] ** 2)\n",
    "    zs = -0.5 * (radius - ring_center_radius) ** 2 + 0.18\n",
    "\n",
    "    slope = - 0.05 / (1.1 * assembly._circle_outer_radius)\n",
    "    zs += slope * xv - 0.05\n",
    "\n",
    "    zs[zs < 0] = 0\n",
    "    return zs"
   ]
  },
  {
   "cell_type": "code",
   "execution_count": 4,
   "metadata": {},
   "outputs": [
    {
     "data": {
      "image/png": "[encoded data removed]",
      "text/plain": [
       "<matplotlib.figure.Figure at 0x1b9ee1d9eb8>"
      ]
     },
     "metadata": {},
     "output_type": "display_data"
    },
    {
     "data": {
      "image/png": "[encoded data removed]",
      "text/plain": [
       "<matplotlib.figure.Figure at 0x1b9f1cc4cf8>"
      ]
     },
     "metadata": {},
     "output_type": "display_data"
    }
   ],
   "source": [
    "assembly_solids = assembly.shielded_assembly()\n",
    "assembly_flat = geo.flatten(assembly_solids)\n",
    "\n",
    "plt.figure()\n",
    "geo.draw(assembly_solids)\n",
    "plt.xlabel('X (cm)', size=18)\n",
    "plt.ylabel('Y (cm)', size=18)\n",
    "ax = plt.gca()\n",
    "ax.set_aspect('equal')\n",
    "\n",
    "xs = np.linspace(-11, 11, 200)\n",
    "ys = np.linspace(-6, 6, 200)\n",
    "\n",
    "image, extent = p_image(xs, ys, assembly_flat)\n",
    "\n",
    "zs = foo(xs, ys)\n",
    "# zs = image.T\n",
    "\n",
    "fig = plt.figure()\n",
    "ax = fig.add_subplot(111, aspect='equal')\n",
    "im = ax.imshow(zs, interpolation='none', extent=extent)\n",
    "# plt.colorbar(im)\n",
    "ax.set_xlabel('X (cm)')\n",
    "ax.set_ylabel('Y (cm)')\n",
    "ax.set_aspect('equal')\n",
    "plt.show()"
   ]
  },
  {
   "cell_type": "code",
   "execution_count": null,
   "metadata": {},
   "outputs": [],
   "source": []
  }
 ],
 "metadata": {
  "kernelspec": {
   "display_name": "Python 3",
   "language": "python",
   "name": "python3"
  },
  "language_info": {
   "codemirror_mode": {
    "name": "ipython",
    "version": 3
   },
   "file_extension": ".py",
   "mimetype": "text/x-python",
   "name": "python",
   "nbconvert_exporter": "python",
   "pygments_lexer": "ipython3",
   "version": "3.6.3"
  }
 },
 "nbformat": 4,
 "nbformat_minor": 2
}
