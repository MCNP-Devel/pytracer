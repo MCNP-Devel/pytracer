{
 "cells": [
  {
   "cell_type": "code",
   "execution_count": 1,
   "metadata": {},
   "outputs": [
    {
     "name": "stdout",
     "output_type": "stream",
     "text": [
      "H:\\GitHub\\pytracer\n"
     ]
    }
   ],
   "source": [
    "%cd H:\\GitHub\\pytracer\\"
   ]
  },
  {
   "cell_type": "code",
   "execution_count": 2,
   "metadata": {},
   "outputs": [],
   "source": [
    "import matplotlib.pyplot as plt\n",
    "from matplotlib.colors import LogNorm\n",
    "%matplotlib inline\n",
    "import numpy as np\n",
    "from scripts.assemblies import shielded_assembly\n",
    "import pytracer.geometry as geo\n",
    "import pytracer.fission as fission"
   ]
  },
  {
   "cell_type": "code",
   "execution_count": null,
   "metadata": {},
   "outputs": [],
   "source": [
    "def nice_double_plot(data1, data2, extent, title1='', title2='', xlabel='', ylabel=''):\n",
    "    fig = plt.figure(figsize=(8, 5))\n",
    "    ax = fig.add_subplot(111)\n",
    "    ax1 = fig.add_subplot(211)\n",
    "    ax2 = fig.add_subplot(212)\n",
    "\n",
    "    # Turn off axis lines and ticks of the big subplot\n",
    "    ax.spines['top'].set_color('none')\n",
    "    ax.spines['bottom'].set_color('none')\n",
    "    ax.spines['left'].set_color('none')\n",
    "    ax.spines['right'].set_color('none')\n",
    "    ax.tick_params(labelcolor='w', top='off', bottom='off', left='off', right='off')\n",
    "\n",
    "    print(data1.min(), data1.max())\n",
    "    im1 = ax1.imshow(data1, interpolation='none', extent=extent, cmap='viridis')\n",
    "    ax1.set_title(title1)\n",
    "\n",
    "    im2 = ax2.imshow(data2, interpolation='none', extent=extent, cmap='viridis')\n",
    "    ax2.set_title(title2)\n",
    "\n",
    "    ax.set_ylabel(ylabel)\n",
    "    ax.set_xlabel(xlabel)\n",
    "    ax.yaxis.labelpad = 40\n",
    "    ax.set_frame_on(False)\n",
    "    ax.axes.get_xaxis().set_ticks([])\n",
    "    ax.axes.get_yaxis().set_ticks([])\n",
    "    plt.subplots_adjust(right=0.98, top=0.95, bottom=0.07, left=0.12, hspace=0.05, wspace=0.20)"
   ]
  },
  {
   "cell_type": "code",
   "execution_count": null,
   "metadata": {},
   "outputs": [],
   "source": [
    "assembly_solids = shielded_assembly()\n",
    "assembly_flat = geo.flatten(assembly_solids)\n",
    "\n",
    "nu_dist = np.array([0.0481677, 0.2485215, 0.4253044, 0.2284094, 0.0423438, 0.0072533], dtype=np.double)\n",
    "nu_dist /= np.sum(nu_dist)\n",
    "\n",
    "plt.figure()\n",
    "geo.draw(assembly_solids)\n",
    "\n",
    "radians = np.linspace(0, np.pi, 100)\n",
    "arc_radians = np.linspace(-np.pi / 8, np.pi / 8, 100)\n",
    "source, detector_points, extent = geo.fan_beam_paths(60, arc_radians, radians, extent=True)\n",
    "source = source[0, :, :]\n",
    "\n",
    "grid = geo.Grid(width=25, height=15, num_x=25, num_y=15)\n",
    "grid.draw()\n",
    "\n",
    "cell_i = 520 / 4 + 5\n",
    "grid_points = grid.cell(cell_i)\n",
    "plt.fill(grid_points[:, 0], grid_points[:, 1], color='blue', zorder=12)\n",
    "plt.xlabel('X (cm)', size=18)\n",
    "plt.ylabel('Y (cm)', size=18)\n",
    "ax = plt.gca()\n",
    "ax.set_aspect('equal')\n",
    "# plt.scatter(source[0, 0], source[0, 1])\n",
    "\n",
    "# response_single = fission.grid_response(source, detector_points, detector_points, grid, assembly_flat, 1, nu_dist)\n",
    "# np.save(r'scripts\\data\\fission_response_single', response_single)\n",
    "# response_single = np.load(r'scripts\\data\\fission_response_single.npy')\n",
    "\n",
    "# response_double = fission.grid_response(source, detector_points, detector_points, grid, assembly_flat, 2, nu_dist)\n",
    "# np.save(r'scripts\\data\\fission_response_double', response_double)\n",
    "# response_double = np.load(r'scripts\\data\\fission_response_double.npy')\n",
    "\n",
    "# single_probs = fission.scan(source, detector_points, detector_points, assembly_flat, 1, nu_dist)\n",
    "# np.save(r'scripts\\data\\single_probs', single_probs)\n",
    "# single_probs = np.load(r'scripts\\data\\single_probs.npy')\n",
    "\n",
    "# double_probs = fission.scan(source, detector_points, detector_points, assembly_flat, 2, nu_dist)\n",
    "# np.save(r'scripts\\data\\double_probs', double_probs)\n",
    "# double_probs = np.load(r'scripts\\data\\double_probs.npy')\n",
    "\n",
    "\n",
    "# nice_double_plot(response_single[cell_i].T, response_double[cell_i].T, extent, 'Single Fission Response',\n",
    "#                  'Double Fission Response', 'Detector Orientation Angle', 'Source Neutron Direction Angle')\n",
    "#\n",
    "# nice_double_plot(single_probs.T, double_probs.T, extent, 'Single Neutron Probability',\n",
    "#                  'Double Neutron Probability', 'Detector Orientation Angle', 'Source Neutron Direction Angle')\n",
    "\n",
    "\n",
    "plt.show()"
   ]
  }
 ],
 "metadata": {
  "kernelspec": {
   "display_name": "Python 3",
   "language": "python",
   "name": "python3"
  },
  "language_info": {
   "codemirror_mode": {
    "name": "ipython",
    "version": 3
   },
   "file_extension": ".py",
   "mimetype": "text/x-python",
   "name": "python",
   "nbconvert_exporter": "python",
   "pygments_lexer": "ipython3",
   "version": "3.6.3"
  }
 },
 "nbformat": 4,
 "nbformat_minor": 2
}
