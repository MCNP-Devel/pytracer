{
 "cells": [
  {
   "cell_type": "markdown",
   "metadata": {},
   "source": [
    "# Creating Responses"
   ]
  },
  {
   "cell_type": "code",
   "execution_count": 1,
   "metadata": {},
   "outputs": [
    {
     "name": "stdout",
     "output_type": "stream",
     "text": [
      "H:\\GitHub\\pytracer\n"
     ]
    }
   ],
   "source": [
    "%cd H:\\GitHub\\pytracer\\"
   ]
  },
  {
   "cell_type": "code",
   "execution_count": 2,
   "metadata": {},
   "outputs": [],
   "source": [
    "import matplotlib.pyplot as plt\n",
    "from matplotlib.colors import LogNorm\n",
    "%matplotlib inline\n",
    "import numpy as np\n",
    "from scripts.assemblies import shielded_assembly\n",
    "from scripts.utils import nice_double_plot\n",
    "import pytracer.geometry as geo\n",
    "import pytracer.fission as fission"
   ]
  },
  {
   "cell_type": "code",
   "execution_count": null,
   "metadata": {},
   "outputs": [],
   "source": [
    "assembly_solids = shielded_assembly()\n",
    "assembly_flat = geo.flatten(assembly_solids)\n",
    "\n",
    "nu_dist = np.array([0.0481677, 0.2485215, 0.4253044, 0.2284094, 0.0423438, 0.0072533], dtype=np.double)\n",
    "nu_dist /= np.sum(nu_dist)"
   ]
  },
  {
   "cell_type": "code",
   "execution_count": null,
   "metadata": {},
   "outputs": [],
   "source": [
    "plt.figure()\n",
    "geo.draw(assembly_solids)\n",
    "\n",
    "radians = np.linspace(0, np.pi, 100)\n",
    "arc_radians = np.linspace(-np.pi / 8, np.pi / 8, 100)\n",
    "source, detector_points, extent = geo.fan_beam_paths(60, arc_radians, radians, extent=True)\n",
    "source = source[0, :, :]\n",
    "\n",
    "grid = geo.Grid(width=25, height=15, num_x=25, num_y=15)\n",
    "grid.draw()\n",
    "\n",
    "cell_i = 520 / 4 + 5\n",
    "grid_points = grid.cell(cell_i)\n",
    "plt.fill(grid_points[:, 0], grid_points[:, 1], color='blue', zorder=12)\n",
    "plt.xlabel('X (cm)', size=18)\n",
    "plt.ylabel('Y (cm)', size=18)\n",
    "ax = plt.gca()\n",
    "ax.set_aspect('equal')\n",
    "# plt.scatter(source[0, 0], source[0, 1])"
   ]
  },
  {
   "cell_type": "code",
   "execution_count": null,
   "metadata": {},
   "outputs": [],
   "source": [
    "response_single = fission.grid_response(source, detector_points, detector_points, grid, assembly_flat, 1, nu_dist)\n",
    "np.save(r'scripts\\data\\fission_response_single', response_single)\n",
    "response_single = np.load(r'scripts\\data\\fission_response_single.npy')"
   ]
  },
  {
   "cell_type": "code",
   "execution_count": null,
   "metadata": {},
   "outputs": [],
   "source": [
    "response_double = fission.grid_response(source, detector_points, detector_points, grid, assembly_flat, 2, nu_dist)\n",
    "np.save(r'scripts\\data\\fission_response_double', response_double)\n",
    "response_double = np.load(r'scripts\\data\\fission_response_double.npy')"
   ]
  },
  {
   "cell_type": "code",
   "execution_count": null,
   "metadata": {},
   "outputs": [],
   "source": [
    "single_probs = fission.scan(source, detector_points, detector_points, assembly_flat, 1, nu_dist)\n",
    "np.save(r'scripts\\data\\single_probs', single_probs)\n",
    "single_probs = np.load(r'scripts\\data\\single_probs.npy')"
   ]
  },
  {
   "cell_type": "code",
   "execution_count": null,
   "metadata": {},
   "outputs": [],
   "source": [
    "double_probs = fission.scan(source, detector_points, detector_points, assembly_flat, 2, nu_dist)\n",
    "np.save(r'scripts\\data\\double_probs', double_probs)\n",
    "double_probs = np.load(r'scripts\\data\\double_probs.npy')"
   ]
  },
  {
   "cell_type": "code",
   "execution_count": null,
   "metadata": {},
   "outputs": [],
   "source": [
    "nice_double_plot(response_single[cell_i].T, response_double[cell_i].T, extent, 'Single Fission Response',\n",
    "                 'Double Fission Response', 'Detector Orientation Angle', 'Source Neutron Direction Angle')\n",
    "plt.show()"
   ]
  },
  {
   "cell_type": "code",
   "execution_count": null,
   "metadata": {},
   "outputs": [],
   "source": [
    "nice_double_plot(single_probs.T, double_probs.T, extent, 'Single Neutron Probability',\n",
    "                 'Double Neutron Probability', 'Detector Orientation Angle', 'Source Neutron Direction Angle')\n",
    "plt.show()"
   ]
  }
 ],
 "metadata": {
  "kernelspec": {
   "display_name": "Python 3",
   "language": "python",
   "name": "python3"
  },
  "language_info": {
   "codemirror_mode": {
    "name": "ipython",
    "version": 3
   },
   "file_extension": ".py",
   "mimetype": "text/x-python",
   "name": "python",
   "nbconvert_exporter": "python",
   "pygments_lexer": "ipython3",
   "version": "3.6.3"
  }
 },
 "nbformat": 4,
 "nbformat_minor": 2
}
